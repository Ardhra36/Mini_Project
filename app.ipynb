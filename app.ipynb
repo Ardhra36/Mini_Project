{
  "nbformat": 4,
  "nbformat_minor": 0,
  "metadata": {
    "colab": {
      "name": "app.ipynb",
      "provenance": [],
      "collapsed_sections": []
    },
    "kernelspec": {
      "name": "python3",
      "display_name": "Python 3"
    },
    "language_info": {
      "name": "python"
    }
  },
  "cells": [
    {
      "cell_type": "code",
      "execution_count": null,
      "metadata": {
        "id": "kHrAn96-vwQA"
      },
      "outputs": [],
      "source": [
        "#import\n",
        "import pandas as pd\n",
        "import numpy as np\n",
        "\n",
        "from sklearn.model_selection import train_test_split\n",
        "from sklearn.metrics import accuracy_score, f1_score\n",
        "from sklearn.model_selection import KFold, train_test_split\n",
        "\n",
        "from sklearn.linear_model import LogisticRegression\n",
        "from sklearn.ensemble import RandomForestClassifier\n",
        "from sklearn.naive_bayes import GaussianNB\n",
        "from xgboost import XGBClassifier\n",
        "from sklearn.feature_extraction.text import CountVectorizer\n",
        "import joblib\n",
        "from lightgbm import LGBMRegressor\n",
        "from sklearn.metrics import confusion_matrix\n",
        "from sklearn.neighbors import KNeighborsClassifier\n",
        "from lightgbm import LGBMClassifier\n",
        "from sklearn.svm import SVC\n",
        "from sklearn.preprocessing import StandardScaler\n",
        "from sklearn.model_selection import cross_val_score"
      ]
    },
    {
      "cell_type": "code",
      "source": [
        "df = pd.read_csv(\"/content/fake_job_postings.csv\",error_bad_lines=False ,engine=\"python\")\n",
        "df.head()"
      ],
      "metadata": {
        "colab": {
          "base_uri": "https://localhost:8080/",
          "height": 686
        },
        "id": "R6I4AcA9whpB",
        "outputId": "f7533653-73dd-4ca1-ee55-331b3bda23b5"
      },
      "execution_count": null,
      "outputs": [
        {
          "output_type": "stream",
          "name": "stderr",
          "text": [
            "/usr/local/lib/python3.7/dist-packages/IPython/core/interactiveshell.py:2882: FutureWarning: The error_bad_lines argument has been deprecated and will be removed in a future version.\n",
            "\n",
            "\n",
            "  exec(code_obj, self.user_global_ns, self.user_ns)\n",
            "Skipping line 3406: unexpected end of data\n"
          ]
        },
        {
          "output_type": "execute_result",
          "data": {
            "text/html": [
              "\n",
              "  <div id=\"df-e41986cf-ca48-4d7a-9414-82361506c11c\">\n",
              "    <div class=\"colab-df-container\">\n",
              "      <div>\n",
              "<style scoped>\n",
              "    .dataframe tbody tr th:only-of-type {\n",
              "        vertical-align: middle;\n",
              "    }\n",
              "\n",
              "    .dataframe tbody tr th {\n",
              "        vertical-align: top;\n",
              "    }\n",
              "\n",
              "    .dataframe thead th {\n",
              "        text-align: right;\n",
              "    }\n",
              "</style>\n",
              "<table border=\"1\" class=\"dataframe\">\n",
              "  <thead>\n",
              "    <tr style=\"text-align: right;\">\n",
              "      <th></th>\n",
              "      <th>job_id</th>\n",
              "      <th>title</th>\n",
              "      <th>location</th>\n",
              "      <th>department</th>\n",
              "      <th>salary_range</th>\n",
              "      <th>company_profile</th>\n",
              "      <th>description</th>\n",
              "      <th>requirements</th>\n",
              "      <th>benefits</th>\n",
              "      <th>telecommuting</th>\n",
              "      <th>has_company_logo</th>\n",
              "      <th>has_questions</th>\n",
              "      <th>employment_type</th>\n",
              "      <th>required_experience</th>\n",
              "      <th>required_education</th>\n",
              "      <th>industry</th>\n",
              "      <th>function</th>\n",
              "      <th>fraudulent</th>\n",
              "    </tr>\n",
              "  </thead>\n",
              "  <tbody>\n",
              "    <tr>\n",
              "      <th>0</th>\n",
              "      <td>1</td>\n",
              "      <td>Marketing Intern</td>\n",
              "      <td>US, NY, New York</td>\n",
              "      <td>Marketing</td>\n",
              "      <td>NaN</td>\n",
              "      <td>We're Food52, and we've created a groundbreaki...</td>\n",
              "      <td>Food52, a fast-growing, James Beard Award-winn...</td>\n",
              "      <td>Experience with content management systems a m...</td>\n",
              "      <td>NaN</td>\n",
              "      <td>0</td>\n",
              "      <td>1</td>\n",
              "      <td>0</td>\n",
              "      <td>Other</td>\n",
              "      <td>Internship</td>\n",
              "      <td>NaN</td>\n",
              "      <td>NaN</td>\n",
              "      <td>Marketing</td>\n",
              "      <td>0</td>\n",
              "    </tr>\n",
              "    <tr>\n",
              "      <th>1</th>\n",
              "      <td>2</td>\n",
              "      <td>Customer Service - Cloud Video Production</td>\n",
              "      <td>NZ, , Auckland</td>\n",
              "      <td>Success</td>\n",
              "      <td>NaN</td>\n",
              "      <td>90 Seconds, the worlds Cloud Video Production ...</td>\n",
              "      <td>Organised - Focused - Vibrant - Awesome!Do you...</td>\n",
              "      <td>What we expect from you:Your key responsibilit...</td>\n",
              "      <td>What you will get from usThrough being part of...</td>\n",
              "      <td>0</td>\n",
              "      <td>1</td>\n",
              "      <td>0</td>\n",
              "      <td>Full-time</td>\n",
              "      <td>Not Applicable</td>\n",
              "      <td>NaN</td>\n",
              "      <td>Marketing and Advertising</td>\n",
              "      <td>Customer Service</td>\n",
              "      <td>0</td>\n",
              "    </tr>\n",
              "    <tr>\n",
              "      <th>2</th>\n",
              "      <td>3</td>\n",
              "      <td>Commissioning Machinery Assistant (CMA)</td>\n",
              "      <td>US, IA, Wever</td>\n",
              "      <td>NaN</td>\n",
              "      <td>NaN</td>\n",
              "      <td>Valor Services provides Workforce Solutions th...</td>\n",
              "      <td>Our client, located in Houston, is actively se...</td>\n",
              "      <td>Implement pre-commissioning and commissioning ...</td>\n",
              "      <td>NaN</td>\n",
              "      <td>0</td>\n",
              "      <td>1</td>\n",
              "      <td>0</td>\n",
              "      <td>NaN</td>\n",
              "      <td>NaN</td>\n",
              "      <td>NaN</td>\n",
              "      <td>NaN</td>\n",
              "      <td>NaN</td>\n",
              "      <td>0</td>\n",
              "    </tr>\n",
              "    <tr>\n",
              "      <th>3</th>\n",
              "      <td>4</td>\n",
              "      <td>Account Executive - Washington DC</td>\n",
              "      <td>US, DC, Washington</td>\n",
              "      <td>Sales</td>\n",
              "      <td>NaN</td>\n",
              "      <td>Our passion for improving quality of life thro...</td>\n",
              "      <td>THE COMPANY: ESRI – Environmental Systems Rese...</td>\n",
              "      <td>EDUCATION: Bachelor’s or Master’s in GIS, busi...</td>\n",
              "      <td>Our culture is anything but corporate—we have ...</td>\n",
              "      <td>0</td>\n",
              "      <td>1</td>\n",
              "      <td>0</td>\n",
              "      <td>Full-time</td>\n",
              "      <td>Mid-Senior level</td>\n",
              "      <td>Bachelor's Degree</td>\n",
              "      <td>Computer Software</td>\n",
              "      <td>Sales</td>\n",
              "      <td>0</td>\n",
              "    </tr>\n",
              "    <tr>\n",
              "      <th>4</th>\n",
              "      <td>5</td>\n",
              "      <td>Bill Review Manager</td>\n",
              "      <td>US, FL, Fort Worth</td>\n",
              "      <td>NaN</td>\n",
              "      <td>NaN</td>\n",
              "      <td>SpotSource Solutions LLC is a Global Human Cap...</td>\n",
              "      <td>JOB TITLE: Itemization Review ManagerLOCATION:...</td>\n",
              "      <td>QUALIFICATIONS:RN license in the State of Texa...</td>\n",
              "      <td>Full Benefits Offered</td>\n",
              "      <td>0</td>\n",
              "      <td>1</td>\n",
              "      <td>1</td>\n",
              "      <td>Full-time</td>\n",
              "      <td>Mid-Senior level</td>\n",
              "      <td>Bachelor's Degree</td>\n",
              "      <td>Hospital &amp; Health Care</td>\n",
              "      <td>Health Care Provider</td>\n",
              "      <td>0</td>\n",
              "    </tr>\n",
              "  </tbody>\n",
              "</table>\n",
              "</div>\n",
              "      <button class=\"colab-df-convert\" onclick=\"convertToInteractive('df-e41986cf-ca48-4d7a-9414-82361506c11c')\"\n",
              "              title=\"Convert this dataframe to an interactive table.\"\n",
              "              style=\"display:none;\">\n",
              "        \n",
              "  <svg xmlns=\"http://www.w3.org/2000/svg\" height=\"24px\"viewBox=\"0 0 24 24\"\n",
              "       width=\"24px\">\n",
              "    <path d=\"M0 0h24v24H0V0z\" fill=\"none\"/>\n",
              "    <path d=\"M18.56 5.44l.94 2.06.94-2.06 2.06-.94-2.06-.94-.94-2.06-.94 2.06-2.06.94zm-11 1L8.5 8.5l.94-2.06 2.06-.94-2.06-.94L8.5 2.5l-.94 2.06-2.06.94zm10 10l.94 2.06.94-2.06 2.06-.94-2.06-.94-.94-2.06-.94 2.06-2.06.94z\"/><path d=\"M17.41 7.96l-1.37-1.37c-.4-.4-.92-.59-1.43-.59-.52 0-1.04.2-1.43.59L10.3 9.45l-7.72 7.72c-.78.78-.78 2.05 0 2.83L4 21.41c.39.39.9.59 1.41.59.51 0 1.02-.2 1.41-.59l7.78-7.78 2.81-2.81c.8-.78.8-2.07 0-2.86zM5.41 20L4 18.59l7.72-7.72 1.47 1.35L5.41 20z\"/>\n",
              "  </svg>\n",
              "      </button>\n",
              "      \n",
              "  <style>\n",
              "    .colab-df-container {\n",
              "      display:flex;\n",
              "      flex-wrap:wrap;\n",
              "      gap: 12px;\n",
              "    }\n",
              "\n",
              "    .colab-df-convert {\n",
              "      background-color: #E8F0FE;\n",
              "      border: none;\n",
              "      border-radius: 50%;\n",
              "      cursor: pointer;\n",
              "      display: none;\n",
              "      fill: #1967D2;\n",
              "      height: 32px;\n",
              "      padding: 0 0 0 0;\n",
              "      width: 32px;\n",
              "    }\n",
              "\n",
              "    .colab-df-convert:hover {\n",
              "      background-color: #E2EBFA;\n",
              "      box-shadow: 0px 1px 2px rgba(60, 64, 67, 0.3), 0px 1px 3px 1px rgba(60, 64, 67, 0.15);\n",
              "      fill: #174EA6;\n",
              "    }\n",
              "\n",
              "    [theme=dark] .colab-df-convert {\n",
              "      background-color: #3B4455;\n",
              "      fill: #D2E3FC;\n",
              "    }\n",
              "\n",
              "    [theme=dark] .colab-df-convert:hover {\n",
              "      background-color: #434B5C;\n",
              "      box-shadow: 0px 1px 3px 1px rgba(0, 0, 0, 0.15);\n",
              "      filter: drop-shadow(0px 1px 2px rgba(0, 0, 0, 0.3));\n",
              "      fill: #FFFFFF;\n",
              "    }\n",
              "  </style>\n",
              "\n",
              "      <script>\n",
              "        const buttonEl =\n",
              "          document.querySelector('#df-e41986cf-ca48-4d7a-9414-82361506c11c button.colab-df-convert');\n",
              "        buttonEl.style.display =\n",
              "          google.colab.kernel.accessAllowed ? 'block' : 'none';\n",
              "\n",
              "        async function convertToInteractive(key) {\n",
              "          const element = document.querySelector('#df-e41986cf-ca48-4d7a-9414-82361506c11c');\n",
              "          const dataTable =\n",
              "            await google.colab.kernel.invokeFunction('convertToInteractive',\n",
              "                                                     [key], {});\n",
              "          if (!dataTable) return;\n",
              "\n",
              "          const docLinkHtml = 'Like what you see? Visit the ' +\n",
              "            '<a target=\"_blank\" href=https://colab.research.google.com/notebooks/data_table.ipynb>data table notebook</a>'\n",
              "            + ' to learn more about interactive tables.';\n",
              "          element.innerHTML = '';\n",
              "          dataTable['output_type'] = 'display_data';\n",
              "          await google.colab.output.renderOutput(dataTable, element);\n",
              "          const docLink = document.createElement('div');\n",
              "          docLink.innerHTML = docLinkHtml;\n",
              "          element.appendChild(docLink);\n",
              "        }\n",
              "      </script>\n",
              "    </div>\n",
              "  </div>\n",
              "  "
            ],
            "text/plain": [
              "   job_id  ... fraudulent\n",
              "0       1  ...          0\n",
              "1       2  ...          0\n",
              "2       3  ...          0\n",
              "3       4  ...          0\n",
              "4       5  ...          0\n",
              "\n",
              "[5 rows x 18 columns]"
            ]
          },
          "metadata": {},
          "execution_count": 6
        }
      ]
    },
    {
      "cell_type": "code",
      "source": [
        "df.info()"
      ],
      "metadata": {
        "colab": {
          "base_uri": "https://localhost:8080/"
        },
        "id": "jqxQD6cP4jkv",
        "outputId": "d2e82b70-b4c2-4cea-cfd7-80f81d5759f2"
      },
      "execution_count": null,
      "outputs": [
        {
          "output_type": "stream",
          "name": "stdout",
          "text": [
            "<class 'pandas.core.frame.DataFrame'>\n",
            "RangeIndex: 3404 entries, 0 to 3403\n",
            "Data columns (total 18 columns):\n",
            " #   Column               Non-Null Count  Dtype \n",
            "---  ------               --------------  ----- \n",
            " 0   job_id               3404 non-null   int64 \n",
            " 1   title                3404 non-null   object\n",
            " 2   location             3358 non-null   object\n",
            " 3   department           1254 non-null   object\n",
            " 4   salary_range         538 non-null    object\n",
            " 5   company_profile      2698 non-null   object\n",
            " 6   description          3404 non-null   object\n",
            " 7   requirements         2939 non-null   object\n",
            " 8   benefits             2038 non-null   object\n",
            " 9   telecommuting        3404 non-null   int64 \n",
            " 10  has_company_logo     3404 non-null   int64 \n",
            " 11  has_questions        3404 non-null   int64 \n",
            " 12  employment_type      2627 non-null   object\n",
            " 13  required_experience  2044 non-null   object\n",
            " 14  required_education   1914 non-null   object\n",
            " 15  industry             2430 non-null   object\n",
            " 16  function             2151 non-null   object\n",
            " 17  fraudulent           3404 non-null   int64 \n",
            "dtypes: int64(5), object(13)\n",
            "memory usage: 478.8+ KB\n"
          ]
        }
      ]
    },
    {
      "cell_type": "code",
      "source": [
        "# replace incorrect values and fill missing values\n",
        "df.salary_range = df.salary_range.fillna(\"0-0\")"
      ],
      "metadata": {
        "id": "FSF-2L_H4pxx"
      },
      "execution_count": null,
      "outputs": []
    },
    {
      "cell_type": "code",
      "source": [
        "df.salary_range.replace({'40000':'40000-40000','Oct-15':'102-102','9-Dec':'102-102','3-Apr':'102-102','4-Apr':'102-102','8-Sep':'102-102','4-Jun':'102-102','10-Oct':'102-102','Oct-20':'102-102','Jun-18':'102-102','11-Nov':'102-102','11-Dec':'102-102','2-Apr':'102-102','2-Jun':'102-102','Dec-25':'102-102','10-Nov':'102-102'}, inplace=True)"
      ],
      "metadata": {
        "id": "lpqFFcYF41cB"
      },
      "execution_count": null,
      "outputs": []
    },
    {
      "cell_type": "code",
      "source": [
        "df.salary_range.replace({'102-102':'0-0'}, inplace=True)"
      ],
      "metadata": {
        "id": "myRPrMW945A8"
      },
      "execution_count": null,
      "outputs": []
    },
    {
      "cell_type": "code",
      "source": [
        "df.location.fillna(\"NO LOCATION\", inplace=True)\n",
        "df.department.fillna(\"NO DEPARTMENT\", inplace=True)\n",
        "df.company_profile.fillna(\"NO PROFILE\", inplace=True)\n",
        "df.description.fillna(\"NO DESCRIPTION\", inplace=True)\n",
        "df.requirements.fillna(\"NO REQUIREMENTS\", inplace=True)\n",
        "df.benefits.fillna(\"NO BENEFITS\", inplace=True)\n",
        "df.employment_type.fillna(\"NO EMP_TYPE\", inplace=True)\n",
        "df.required_experience.fillna(\"NO EXPERIENCE\", inplace=True)\n",
        "df.required_education.fillna(\"NO EDUCATION\", inplace=True)\n",
        "df.industry.fillna(\"NO INDUSTRY\", inplace=True)\n",
        "df.function.fillna(\"NO FUNCTIONS\", inplace=True)\n",
        "df.telecommuting.replace({0:\"NO telecommuting\",1:\"YES telecommuting\"},inplace=True)\n",
        "df.has_company_logo.replace({0:\"NO logo\",1:'YES logo'},inplace=True)\n",
        "df.has_questions.replace({0:\"NO questions\",1:\"Yes question\"},inplace=True)"
      ],
      "metadata": {
        "id": "eZoQqHmN46SU"
      },
      "execution_count": null,
      "outputs": []
    },
    {
      "cell_type": "code",
      "source": [
        "#Function to get probability of output from each columns¶\n",
        "# used count vectorizer on the strings and then used logistic regression on it to get the predicted probability\n",
        "\n",
        "# function to get probability of efeatures\n",
        "\n",
        "def get_feat_prob(X,y):\n",
        "    # vectorize\n",
        "    vec = CountVectorizer(max_features=10000)\n",
        "    vec.fit(X)\n",
        "    trn,tst,trn_o,tst_o = train_test_split(X, y, test_size=0.4, random_state=20)\n",
        "    # transform\n",
        "    trn_abs = vec.transform(trn)\n",
        "    tst_abs = vec.transform(tst)\n",
        "    X_abs = vec.transform(X)\n",
        "    # fit to model\n",
        "    clf = LogisticRegression(C = 10, n_jobs=-1)\n",
        "    clf.fit(trn_abs, trn_o)\n",
        "    # predict score\n",
        "    tst_preds = clf.predict(tst_abs)\n",
        "    print(\"score: \", f1_score(tst_o, tst_preds, average='micro'))\n",
        "    print(\"confusion matrix: \\n\\n\", confusion_matrix(tst_o, tst_preds))\n",
        "    # predict probabilities and make a dataframe of 1's probability\n",
        "    all_preds = clf.predict_proba(X_abs)\n",
        "    all_preds_df = pd.DataFrame(all_preds, columns=['zero','one'])\n",
        "          \n",
        "    return all_preds_df['one']\n",
        "#     return clf\n",
        "y = df['fraudulent']"
      ],
      "metadata": {
        "id": "tCCeEACv5Fp-"
      },
      "execution_count": null,
      "outputs": []
    },
    {
      "cell_type": "code",
      "source": [
        "#check for each of the categorical columns first\n",
        "each_proba = []\n",
        "for col in df.iloc[:,:18]:\n",
        "    if df[col].dtype == 'object':\n",
        "        print(\"\\n-----------\",col,\"-----------\")\n",
        "        each_proba.append(get_feat_prob(df[col],y))"
      ],
      "metadata": {
        "colab": {
          "base_uri": "https://localhost:8080/"
        },
        "id": "zUrb37yh5WWI",
        "outputId": "b4530f66-7e88-4db0-c850-242eaf5fbc39"
      },
      "execution_count": null,
      "outputs": [
        {
          "output_type": "stream",
          "name": "stdout",
          "text": [
            "\n",
            "----------- title -----------\n",
            "score:  0.9647577092511013\n",
            "confusion matrix: \n",
            "\n",
            " [[1308   11]\n",
            " [  37    6]]\n",
            "\n",
            "----------- location -----------\n",
            "score:  0.9720998531571219\n",
            "confusion matrix: \n",
            "\n",
            " [[1318    1]\n",
            " [  37    6]]\n",
            "\n",
            "----------- department -----------\n",
            "score:  0.9706314243759178\n",
            "confusion matrix: \n",
            "\n",
            " [[1319    0]\n",
            " [  40    3]]\n",
            "\n",
            "----------- salary_range -----------\n",
            "score:  0.9684287812041116\n",
            "confusion matrix: \n",
            "\n",
            " [[1318    1]\n",
            " [  42    1]]\n",
            "\n",
            "----------- company_profile -----------\n",
            "score:  0.9838472834067548\n",
            "confusion matrix: \n",
            "\n",
            " [[1319    0]\n",
            " [  22   21]]\n",
            "\n",
            "----------- description -----------\n",
            "score:  0.9765051395007343\n",
            "confusion matrix: \n",
            "\n",
            " [[1315    4]\n",
            " [  28   15]]\n",
            "\n",
            "----------- requirements -----------\n",
            "score:  0.9706314243759178\n",
            "confusion matrix: \n",
            "\n",
            " [[1311    8]\n",
            " [  32   11]]\n",
            "\n",
            "----------- benefits -----------\n",
            "score:  0.9765051395007343\n",
            "confusion matrix: \n",
            "\n",
            " [[1317    2]\n",
            " [  30   13]]\n",
            "\n",
            "----------- telecommuting -----------\n",
            "score:  0.9684287812041116\n",
            "confusion matrix: \n",
            "\n",
            " [[1319    0]\n",
            " [  43    0]]\n",
            "\n",
            "----------- has_company_logo -----------\n",
            "score:  0.9684287812041116\n",
            "confusion matrix: \n",
            "\n",
            " [[1319    0]\n",
            " [  43    0]]\n",
            "\n",
            "----------- has_questions -----------\n",
            "score:  0.9684287812041116\n",
            "confusion matrix: \n",
            "\n",
            " [[1319    0]\n",
            " [  43    0]]\n",
            "\n",
            "----------- employment_type -----------\n",
            "score:  0.9684287812041116\n",
            "confusion matrix: \n",
            "\n",
            " [[1319    0]\n",
            " [  43    0]]\n",
            "\n",
            "----------- required_experience -----------\n",
            "score:  0.9684287812041116\n",
            "confusion matrix: \n",
            "\n",
            " [[1319    0]\n",
            " [  43    0]]\n",
            "\n",
            "----------- required_education -----------\n",
            "score:  0.9684287812041116\n",
            "confusion matrix: \n",
            "\n",
            " [[1319    0]\n",
            " [  43    0]]\n",
            "\n",
            "----------- industry -----------\n",
            "score:  0.9684287812041116\n",
            "confusion matrix: \n",
            "\n",
            " [[1319    0]\n",
            " [  43    0]]\n",
            "\n",
            "----------- function -----------\n",
            "score:  0.9684287812041116\n",
            "confusion matrix: \n",
            "\n",
            " [[1319    0]\n",
            " [  43    0]]\n"
          ]
        }
      ]
    },
    {
      "cell_type": "code",
      "source": [
        "# make list of df's into single dataframe\n",
        "each_proba_df = pd.concat(each_proba[:7] ,axis=1)"
      ],
      "metadata": {
        "id": "_bfe70Hg52L3"
      },
      "execution_count": null,
      "outputs": []
    },
    {
      "cell_type": "code",
      "source": [
        "each_proba_df.columns = df.columns[1:8]"
      ],
      "metadata": {
        "id": "9ujMmZTB53kR"
      },
      "execution_count": null,
      "outputs": []
    },
    {
      "cell_type": "code",
      "source": [
        "each_proba_df.head()"
      ],
      "metadata": {
        "colab": {
          "base_uri": "https://localhost:8080/",
          "height": 206
        },
        "id": "7yrpNXDY57M1",
        "outputId": "daee6e71-5cde-4c81-c38d-e0a131063a51"
      },
      "execution_count": null,
      "outputs": [
        {
          "output_type": "execute_result",
          "data": {
            "text/html": [
              "\n",
              "  <div id=\"df-f1f28416-4634-4ce8-9d4b-322bebb6aba4\">\n",
              "    <div class=\"colab-df-container\">\n",
              "      <div>\n",
              "<style scoped>\n",
              "    .dataframe tbody tr th:only-of-type {\n",
              "        vertical-align: middle;\n",
              "    }\n",
              "\n",
              "    .dataframe tbody tr th {\n",
              "        vertical-align: top;\n",
              "    }\n",
              "\n",
              "    .dataframe thead th {\n",
              "        text-align: right;\n",
              "    }\n",
              "</style>\n",
              "<table border=\"1\" class=\"dataframe\">\n",
              "  <thead>\n",
              "    <tr style=\"text-align: right;\">\n",
              "      <th></th>\n",
              "      <th>title</th>\n",
              "      <th>location</th>\n",
              "      <th>department</th>\n",
              "      <th>salary_range</th>\n",
              "      <th>company_profile</th>\n",
              "      <th>description</th>\n",
              "      <th>requirements</th>\n",
              "    </tr>\n",
              "  </thead>\n",
              "  <tbody>\n",
              "    <tr>\n",
              "      <th>0</th>\n",
              "      <td>0.000801</td>\n",
              "      <td>0.000599</td>\n",
              "      <td>0.002170</td>\n",
              "      <td>0.027082</td>\n",
              "      <td>0.000035</td>\n",
              "      <td>7.923887e-05</td>\n",
              "      <td>0.000087</td>\n",
              "    </tr>\n",
              "    <tr>\n",
              "      <th>1</th>\n",
              "      <td>0.010698</td>\n",
              "      <td>0.002461</td>\n",
              "      <td>0.008703</td>\n",
              "      <td>0.027082</td>\n",
              "      <td>0.000140</td>\n",
              "      <td>7.652571e-09</td>\n",
              "      <td>0.000005</td>\n",
              "    </tr>\n",
              "    <tr>\n",
              "      <th>2</th>\n",
              "      <td>0.019102</td>\n",
              "      <td>0.009991</td>\n",
              "      <td>0.034510</td>\n",
              "      <td>0.027082</td>\n",
              "      <td>0.000005</td>\n",
              "      <td>7.152032e-03</td>\n",
              "      <td>0.000266</td>\n",
              "    </tr>\n",
              "    <tr>\n",
              "      <th>3</th>\n",
              "      <td>0.013134</td>\n",
              "      <td>0.022881</td>\n",
              "      <td>0.011791</td>\n",
              "      <td>0.027082</td>\n",
              "      <td>0.000126</td>\n",
              "      <td>2.419607e-08</td>\n",
              "      <td>0.000045</td>\n",
              "    </tr>\n",
              "    <tr>\n",
              "      <th>4</th>\n",
              "      <td>0.007955</td>\n",
              "      <td>0.015533</td>\n",
              "      <td>0.034510</td>\n",
              "      <td>0.027082</td>\n",
              "      <td>0.000042</td>\n",
              "      <td>4.539576e-05</td>\n",
              "      <td>0.000025</td>\n",
              "    </tr>\n",
              "  </tbody>\n",
              "</table>\n",
              "</div>\n",
              "      <button class=\"colab-df-convert\" onclick=\"convertToInteractive('df-f1f28416-4634-4ce8-9d4b-322bebb6aba4')\"\n",
              "              title=\"Convert this dataframe to an interactive table.\"\n",
              "              style=\"display:none;\">\n",
              "        \n",
              "  <svg xmlns=\"http://www.w3.org/2000/svg\" height=\"24px\"viewBox=\"0 0 24 24\"\n",
              "       width=\"24px\">\n",
              "    <path d=\"M0 0h24v24H0V0z\" fill=\"none\"/>\n",
              "    <path d=\"M18.56 5.44l.94 2.06.94-2.06 2.06-.94-2.06-.94-.94-2.06-.94 2.06-2.06.94zm-11 1L8.5 8.5l.94-2.06 2.06-.94-2.06-.94L8.5 2.5l-.94 2.06-2.06.94zm10 10l.94 2.06.94-2.06 2.06-.94-2.06-.94-.94-2.06-.94 2.06-2.06.94z\"/><path d=\"M17.41 7.96l-1.37-1.37c-.4-.4-.92-.59-1.43-.59-.52 0-1.04.2-1.43.59L10.3 9.45l-7.72 7.72c-.78.78-.78 2.05 0 2.83L4 21.41c.39.39.9.59 1.41.59.51 0 1.02-.2 1.41-.59l7.78-7.78 2.81-2.81c.8-.78.8-2.07 0-2.86zM5.41 20L4 18.59l7.72-7.72 1.47 1.35L5.41 20z\"/>\n",
              "  </svg>\n",
              "      </button>\n",
              "      \n",
              "  <style>\n",
              "    .colab-df-container {\n",
              "      display:flex;\n",
              "      flex-wrap:wrap;\n",
              "      gap: 12px;\n",
              "    }\n",
              "\n",
              "    .colab-df-convert {\n",
              "      background-color: #E8F0FE;\n",
              "      border: none;\n",
              "      border-radius: 50%;\n",
              "      cursor: pointer;\n",
              "      display: none;\n",
              "      fill: #1967D2;\n",
              "      height: 32px;\n",
              "      padding: 0 0 0 0;\n",
              "      width: 32px;\n",
              "    }\n",
              "\n",
              "    .colab-df-convert:hover {\n",
              "      background-color: #E2EBFA;\n",
              "      box-shadow: 0px 1px 2px rgba(60, 64, 67, 0.3), 0px 1px 3px 1px rgba(60, 64, 67, 0.15);\n",
              "      fill: #174EA6;\n",
              "    }\n",
              "\n",
              "    [theme=dark] .colab-df-convert {\n",
              "      background-color: #3B4455;\n",
              "      fill: #D2E3FC;\n",
              "    }\n",
              "\n",
              "    [theme=dark] .colab-df-convert:hover {\n",
              "      background-color: #434B5C;\n",
              "      box-shadow: 0px 1px 3px 1px rgba(0, 0, 0, 0.15);\n",
              "      filter: drop-shadow(0px 1px 2px rgba(0, 0, 0, 0.3));\n",
              "      fill: #FFFFFF;\n",
              "    }\n",
              "  </style>\n",
              "\n",
              "      <script>\n",
              "        const buttonEl =\n",
              "          document.querySelector('#df-f1f28416-4634-4ce8-9d4b-322bebb6aba4 button.colab-df-convert');\n",
              "        buttonEl.style.display =\n",
              "          google.colab.kernel.accessAllowed ? 'block' : 'none';\n",
              "\n",
              "        async function convertToInteractive(key) {\n",
              "          const element = document.querySelector('#df-f1f28416-4634-4ce8-9d4b-322bebb6aba4');\n",
              "          const dataTable =\n",
              "            await google.colab.kernel.invokeFunction('convertToInteractive',\n",
              "                                                     [key], {});\n",
              "          if (!dataTable) return;\n",
              "\n",
              "          const docLinkHtml = 'Like what you see? Visit the ' +\n",
              "            '<a target=\"_blank\" href=https://colab.research.google.com/notebooks/data_table.ipynb>data table notebook</a>'\n",
              "            + ' to learn more about interactive tables.';\n",
              "          element.innerHTML = '';\n",
              "          dataTable['output_type'] = 'display_data';\n",
              "          await google.colab.output.renderOutput(dataTable, element);\n",
              "          const docLink = document.createElement('div');\n",
              "          docLink.innerHTML = docLinkHtml;\n",
              "          element.appendChild(docLink);\n",
              "        }\n",
              "      </script>\n",
              "    </div>\n",
              "  </div>\n",
              "  "
            ],
            "text/plain": [
              "      title  location  department  ...  company_profile   description  requirements\n",
              "0  0.000801  0.000599    0.002170  ...         0.000035  7.923887e-05      0.000087\n",
              "1  0.010698  0.002461    0.008703  ...         0.000140  7.652571e-09      0.000005\n",
              "2  0.019102  0.009991    0.034510  ...         0.000005  7.152032e-03      0.000266\n",
              "3  0.013134  0.022881    0.011791  ...         0.000126  2.419607e-08      0.000045\n",
              "4  0.007955  0.015533    0.034510  ...         0.000042  4.539576e-05      0.000025\n",
              "\n",
              "[5 rows x 7 columns]"
            ]
          },
          "metadata": {},
          "execution_count": 16
        }
      ]
    },
    {
      "cell_type": "code",
      "source": [
        "left = df.iloc[:,9:-3]\n",
        "left.head()\n",
        "\n",
        "X_left = pd.get_dummies(left)\n",
        "y = df.fraudulent\n",
        "\n",
        "X_trainl,X_testl,y_trainl,y_testl = train_test_split(X_left,y, test_size=0.3,random_state=42)\n",
        "\n",
        "clf_left = XGBClassifier()\n",
        "clf_left.fit(X_trainl,y_trainl)\n",
        "print(clf_left.score(X_testl,y_testl))\n",
        "print(confusion_matrix(y_testl,clf_left.predict(X_testl)))\n",
        "\n",
        "X_col_left = pd.DataFrame(clf_left.predict(X_left))"
      ],
      "metadata": {
        "colab": {
          "base_uri": "https://localhost:8080/"
        },
        "id": "uk47DB3g5_es",
        "outputId": "4d91b118-e973-4d36-89c5-1327b94062a5"
      },
      "execution_count": null,
      "outputs": [
        {
          "output_type": "stream",
          "name": "stdout",
          "text": [
            "0.9657534246575342\n",
            "[[987   0]\n",
            " [ 35   0]]\n"
          ]
        }
      ]
    },
    {
      "cell_type": "code",
      "source": [
        "#The below function is uses clustering approach to cluster our data into how many ever groups it can  and apply the passes models onto each cluster so that we can see what works best\n",
        "\n",
        "def clustering_approach(X,y, models,type = \"none\"):    \n",
        "    dfs = {}\n",
        "    X_cls = {}\n",
        "    y_cls = {}\n",
        "    X_scaled = {}\n",
        "    X_train, X_test, y_train, y_test = {},{},{},{}\n",
        "    y_pred = {}\n",
        "    models_out = {}\n",
        "    \n",
        "    # create knn model and predict\n",
        "    knn_clf = KNeighborsClassifier()\n",
        "    knn_clf.fit(X,y)\n",
        "    df = pd.concat([X,y],axis=1) # so we can later separate x and y for each cluster\n",
        "    df['knn_clf'] = knn_clf.predict(X)\n",
        "    no_cls = knn_clf.classes_\n",
        "    \n",
        "    # get the dataframes, apply std.scaler, form train, test sets, apply models\n",
        "    for cls in knn_clf.classes_:\n",
        "        print(\"--------------The {} cluster's results-------------------\".format(cls),end=\"\\n\\n\")\n",
        "        dfs[cls] = df[df['knn_clf'] == cls].iloc[:,:-1]\n",
        "        \n",
        "        X_cls[cls] = dfs[cls].iloc[:,:-1]\n",
        "        y_cls[cls] = dfs[cls].iloc[:,-1]\n",
        "        scaler = StandardScaler()\n",
        "        X_scaled[cls] = scaler.fit_transform(X_cls[cls])\n",
        "#         X_scaled[cls] = pd.DataFrame(X_scaled[cls],columns=df.columns[:-1])\n",
        "        \n",
        "        X_train[cls],X_test[cls],y_train[cls],y_test[cls] = train_test_split(X_scaled[cls],y_cls[cls],test_size=0.4,random_state=42)\n",
        "        print(y_train[cls].value_counts())\n",
        "        print(y_test[cls].value_counts())\n",
        "        \n",
        "        # type can be used for analyzing... eg: confusion matrix\n",
        "        for model in models:\n",
        "            model.fit(X_train[cls], y_train[cls])\n",
        "            y_pred[cls] = model.predict(X_test[cls])\n",
        "            print(model)\n",
        "            print(model.score(X_test[cls],y_test[cls]))\n",
        "            print(confusion_matrix(y_pred[cls], y_test[cls]), end=\"\\n\\n\")\n",
        "            print((cross_val_score(model,X_scaled[cls],y_cls[cls])).mean())\n",
        "            models_out[str(model) + str(cls)] = model\n",
        "        \n",
        "    return [X_train, X_test, y_train, y_test,knn_clf, models_out]"
      ],
      "metadata": {
        "id": "cq3t-a6j6IG1"
      },
      "execution_count": null,
      "outputs": []
    },
    {
      "cell_type": "code",
      "source": [
        "X_new = pd.concat([each_proba_df,X_col_left], axis=1)"
      ],
      "metadata": {
        "id": "949lOebs6oq5"
      },
      "execution_count": null,
      "outputs": []
    },
    {
      "cell_type": "code",
      "source": [
        "models = [LogisticRegression(), RandomForestClassifier(), KNeighborsClassifier(), XGBClassifier(verbosity = 0),LGBMClassifier(),SVC(), GaussianNB()] \n",
        "\n",
        "X_train, X_test, y_train, y_test,clusterer, models = clustering_approach(X_new,y,models)"
      ],
      "metadata": {
        "colab": {
          "base_uri": "https://localhost:8080/",
          "height": 1000
        },
        "id": "MEFmbE997nXh",
        "outputId": "e1b4c583-6470-4ab5-ef38-0d51519bffd3"
      },
      "execution_count": null,
      "outputs": [
        {
          "output_type": "stream",
          "name": "stderr",
          "text": [
            "/usr/local/lib/python3.7/dist-packages/sklearn/utils/validation.py:1692: FutureWarning: Feature names only support names that are all strings. Got feature names with dtypes: ['int', 'str']. An error will be raised in 1.2.\n",
            "  FutureWarning,\n",
            "/usr/local/lib/python3.7/dist-packages/sklearn/utils/validation.py:1692: FutureWarning: Feature names only support names that are all strings. Got feature names with dtypes: ['int', 'str']. An error will be raised in 1.2.\n",
            "  FutureWarning,\n"
          ]
        },
        {
          "output_type": "stream",
          "name": "stdout",
          "text": [
            "--------------The 0 cluster's results-------------------\n",
            "\n",
            "0    1972\n",
            "1      12\n",
            "Name: fraudulent, dtype: int64\n",
            "0    1318\n",
            "1       5\n",
            "Name: fraudulent, dtype: int64\n",
            "LogisticRegression()\n",
            "0.9962207105064248\n",
            "[[1318    5]\n",
            " [   0    0]]\n",
            "\n"
          ]
        },
        {
          "output_type": "stream",
          "name": "stderr",
          "text": [
            "/usr/local/lib/python3.7/dist-packages/sklearn/utils/validation.py:1692: FutureWarning: Feature names only support names that are all strings. Got feature names with dtypes: ['int', 'str']. An error will be raised in 1.2.\n",
            "  FutureWarning,\n",
            "/usr/local/lib/python3.7/dist-packages/sklearn/utils/validation.py:1692: FutureWarning: Feature names only support names that are all strings. Got feature names with dtypes: ['int', 'str']. An error will be raised in 1.2.\n",
            "  FutureWarning,\n"
          ]
        },
        {
          "output_type": "stream",
          "name": "stdout",
          "text": [
            "0.9942552481592022\n",
            "RandomForestClassifier()\n",
            "0.9962207105064248\n",
            "[[1318    5]\n",
            " [   0    0]]\n",
            "\n",
            "0.9948599348236445\n",
            "KNeighborsClassifier()\n",
            "0.9962207105064248\n",
            "[[1318    5]\n",
            " [   0    0]]\n",
            "\n",
            "0.9948599348236445\n",
            "XGBClassifier(verbosity=0)\n",
            "0.9962207105064248\n",
            "[[1318    5]\n",
            " [   0    0]]\n",
            "\n",
            "0.9948599348236445\n",
            "LGBMClassifier()\n",
            "0.9962207105064248\n",
            "[[1318    5]\n",
            " [   0    0]]\n",
            "\n",
            "0.9945578200200191\n",
            "SVC()\n",
            "0.9962207105064248\n",
            "[[1318    5]\n",
            " [   0    0]]\n",
            "\n",
            "0.9948599348236445\n",
            "GaussianNB()\n",
            "0.963718820861678\n",
            "[[1274    4]\n",
            " [  44    1]]\n",
            "\n",
            "0.9609883404710431\n",
            "--------------The 1 cluster's results-------------------\n",
            "\n",
            "1    58\n",
            "Name: fraudulent, dtype: int64\n",
            "1    38\n",
            "0     1\n",
            "Name: fraudulent, dtype: int64\n"
          ]
        },
        {
          "output_type": "stream",
          "name": "stderr",
          "text": [
            "/usr/local/lib/python3.7/dist-packages/sklearn/utils/validation.py:1692: FutureWarning: Feature names only support names that are all strings. Got feature names with dtypes: ['int', 'str']. An error will be raised in 1.2.\n",
            "  FutureWarning,\n",
            "/usr/local/lib/python3.7/dist-packages/sklearn/utils/validation.py:1692: FutureWarning: Feature names only support names that are all strings. Got feature names with dtypes: ['int', 'str']. An error will be raised in 1.2.\n",
            "  FutureWarning,\n"
          ]
        },
        {
          "output_type": "error",
          "ename": "ValueError",
          "evalue": "ignored",
          "traceback": [
            "\u001b[0;31m---------------------------------------------------------------------------\u001b[0m",
            "\u001b[0;31mValueError\u001b[0m                                Traceback (most recent call last)",
            "\u001b[0;32m<ipython-input-22-53c5c92f5418>\u001b[0m in \u001b[0;36m<module>\u001b[0;34m()\u001b[0m\n\u001b[1;32m      1\u001b[0m \u001b[0mmodels\u001b[0m \u001b[0;34m=\u001b[0m \u001b[0;34m[\u001b[0m\u001b[0mLogisticRegression\u001b[0m\u001b[0;34m(\u001b[0m\u001b[0;34m)\u001b[0m\u001b[0;34m,\u001b[0m \u001b[0mRandomForestClassifier\u001b[0m\u001b[0;34m(\u001b[0m\u001b[0;34m)\u001b[0m\u001b[0;34m,\u001b[0m \u001b[0mKNeighborsClassifier\u001b[0m\u001b[0;34m(\u001b[0m\u001b[0;34m)\u001b[0m\u001b[0;34m,\u001b[0m \u001b[0mXGBClassifier\u001b[0m\u001b[0;34m(\u001b[0m\u001b[0mverbosity\u001b[0m \u001b[0;34m=\u001b[0m \u001b[0;36m0\u001b[0m\u001b[0;34m)\u001b[0m\u001b[0;34m,\u001b[0m\u001b[0mLGBMClassifier\u001b[0m\u001b[0;34m(\u001b[0m\u001b[0;34m)\u001b[0m\u001b[0;34m,\u001b[0m\u001b[0mSVC\u001b[0m\u001b[0;34m(\u001b[0m\u001b[0;34m)\u001b[0m\u001b[0;34m,\u001b[0m \u001b[0mGaussianNB\u001b[0m\u001b[0;34m(\u001b[0m\u001b[0;34m)\u001b[0m\u001b[0;34m]\u001b[0m\u001b[0;34m\u001b[0m\u001b[0;34m\u001b[0m\u001b[0m\n\u001b[1;32m      2\u001b[0m \u001b[0;34m\u001b[0m\u001b[0m\n\u001b[0;32m----> 3\u001b[0;31m \u001b[0mX_train\u001b[0m\u001b[0;34m,\u001b[0m \u001b[0mX_test\u001b[0m\u001b[0;34m,\u001b[0m \u001b[0my_train\u001b[0m\u001b[0;34m,\u001b[0m \u001b[0my_test\u001b[0m\u001b[0;34m,\u001b[0m\u001b[0mclusterer\u001b[0m\u001b[0;34m,\u001b[0m \u001b[0mmodels\u001b[0m \u001b[0;34m=\u001b[0m \u001b[0mclustering_approach\u001b[0m\u001b[0;34m(\u001b[0m\u001b[0mX_new\u001b[0m\u001b[0;34m,\u001b[0m\u001b[0my\u001b[0m\u001b[0;34m,\u001b[0m\u001b[0mmodels\u001b[0m\u001b[0;34m)\u001b[0m\u001b[0;34m\u001b[0m\u001b[0;34m\u001b[0m\u001b[0m\n\u001b[0m",
            "\u001b[0;32m<ipython-input-18-4cccbd7c79ba>\u001b[0m in \u001b[0;36mclustering_approach\u001b[0;34m(X, y, models, type)\u001b[0m\n\u001b[1;32m     33\u001b[0m         \u001b[0;31m# type can be used for analyzing... eg: confusion matrix\u001b[0m\u001b[0;34m\u001b[0m\u001b[0;34m\u001b[0m\u001b[0;34m\u001b[0m\u001b[0m\n\u001b[1;32m     34\u001b[0m         \u001b[0;32mfor\u001b[0m \u001b[0mmodel\u001b[0m \u001b[0;32min\u001b[0m \u001b[0mmodels\u001b[0m\u001b[0;34m:\u001b[0m\u001b[0;34m\u001b[0m\u001b[0;34m\u001b[0m\u001b[0m\n\u001b[0;32m---> 35\u001b[0;31m             \u001b[0mmodel\u001b[0m\u001b[0;34m.\u001b[0m\u001b[0mfit\u001b[0m\u001b[0;34m(\u001b[0m\u001b[0mX_train\u001b[0m\u001b[0;34m[\u001b[0m\u001b[0mcls\u001b[0m\u001b[0;34m]\u001b[0m\u001b[0;34m,\u001b[0m \u001b[0my_train\u001b[0m\u001b[0;34m[\u001b[0m\u001b[0mcls\u001b[0m\u001b[0;34m]\u001b[0m\u001b[0;34m)\u001b[0m\u001b[0;34m\u001b[0m\u001b[0;34m\u001b[0m\u001b[0m\n\u001b[0m\u001b[1;32m     36\u001b[0m             \u001b[0my_pred\u001b[0m\u001b[0;34m[\u001b[0m\u001b[0mcls\u001b[0m\u001b[0;34m]\u001b[0m \u001b[0;34m=\u001b[0m \u001b[0mmodel\u001b[0m\u001b[0;34m.\u001b[0m\u001b[0mpredict\u001b[0m\u001b[0;34m(\u001b[0m\u001b[0mX_test\u001b[0m\u001b[0;34m[\u001b[0m\u001b[0mcls\u001b[0m\u001b[0;34m]\u001b[0m\u001b[0;34m)\u001b[0m\u001b[0;34m\u001b[0m\u001b[0;34m\u001b[0m\u001b[0m\n\u001b[1;32m     37\u001b[0m             \u001b[0mprint\u001b[0m\u001b[0;34m(\u001b[0m\u001b[0mmodel\u001b[0m\u001b[0;34m)\u001b[0m\u001b[0;34m\u001b[0m\u001b[0;34m\u001b[0m\u001b[0m\n",
            "\u001b[0;32m/usr/local/lib/python3.7/dist-packages/sklearn/linear_model/_logistic.py\u001b[0m in \u001b[0;36mfit\u001b[0;34m(self, X, y, sample_weight)\u001b[0m\n\u001b[1;32m   1556\u001b[0m                 \u001b[0;34m\" in the data, but the data contains only one\"\u001b[0m\u001b[0;34m\u001b[0m\u001b[0;34m\u001b[0m\u001b[0m\n\u001b[1;32m   1557\u001b[0m                 \u001b[0;34m\" class: %r\"\u001b[0m\u001b[0;34m\u001b[0m\u001b[0;34m\u001b[0m\u001b[0m\n\u001b[0;32m-> 1558\u001b[0;31m                 \u001b[0;34m%\u001b[0m \u001b[0mclasses_\u001b[0m\u001b[0;34m[\u001b[0m\u001b[0;36m0\u001b[0m\u001b[0;34m]\u001b[0m\u001b[0;34m\u001b[0m\u001b[0;34m\u001b[0m\u001b[0m\n\u001b[0m\u001b[1;32m   1559\u001b[0m             )\n\u001b[1;32m   1560\u001b[0m \u001b[0;34m\u001b[0m\u001b[0m\n",
            "\u001b[0;31mValueError\u001b[0m: This solver needs samples of at least 2 classes in the data, but the data contains only one class: 1"
          ]
        }
      ]
    },
    {
      "cell_type": "code",
      "source": [
        "m = [[6577 +3, 2+11],[ 218+9, 312+20]]"
      ],
      "metadata": {
        "id": "7sOKRphX7vLW"
      },
      "execution_count": null,
      "outputs": []
    },
    {
      "cell_type": "code",
      "source": [
        "(m[0][0]+m[1][1])/(m[0][0]+m[0][1]+m[1][1]+m[1][0])"
      ],
      "metadata": {
        "colab": {
          "base_uri": "https://localhost:8080/"
        },
        "id": "X3v_U-zf73aD",
        "outputId": "31cce27e-2fe6-43a3-90c4-cb1458b444df"
      },
      "execution_count": null,
      "outputs": [
        {
          "output_type": "execute_result",
          "data": {
            "text/plain": [
              "0.9664429530201343"
            ]
          },
          "metadata": {},
          "execution_count": 24
        }
      ]
    },
    {
      "cell_type": "code",
      "source": [
        "(m[1][1])/(m[0][1]+m[1][1])"
      ],
      "metadata": {
        "colab": {
          "base_uri": "https://localhost:8080/"
        },
        "id": "EUvXp9NJ762R",
        "outputId": "226d2258-618f-432a-c624-95ab5364cf8c"
      },
      "execution_count": null,
      "outputs": [
        {
          "output_type": "execute_result",
          "data": {
            "text/plain": [
              "0.9623188405797102"
            ]
          },
          "metadata": {},
          "execution_count": 25
        }
      ]
    }
  ]
}